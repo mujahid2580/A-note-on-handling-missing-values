{
 "cells": [
  {
   "cell_type": "markdown",
   "metadata": {},
   "source": [
    "# HOW TO FIND MISSING VALUES IN A DATA "
   ]
  },
  {
   "cell_type": "markdown",
   "metadata": {},
   "source": [
    "# Procedure:-\n",
    "    1.First import packages (pandas,numpy);\n",
    "    2.load a data set then.,\n",
    "    3.The following are the ways to find missing values\n",
    "    4.Syntax to find missing values is variablename.isna()\n",
    "       1. isna()  tells the missing values in a data (if there is a null or missing values it shows true)\n",
    "       2. isnull() tells the missing values in a data\n",
    "       3. notna()  if there is a missing values it shows false\n",
    "       4. notnull() "
   ]
  },
  {
   "cell_type": "markdown",
   "metadata": {},
   "source": [
    "# HOW TO FILL VALUES IN MISSING OR NULL VALUES\n",
    "    The following are ways to fill the missing values\n",
    "# The following methods if you run it appears in the form of boolean data type(\"TRUE OR FALSE\")\n",
    "        1. fillna() this function fills the missing values\n",
    "        There are two methods in fillna \n",
    "            1. ffill or PAD\n",
    "                   syntax:- fillna(method='ffill') this is a forward filling method it means it fills the values  from TOP TO BOTTOM \n",
    "            2. bfill\n",
    "                   syntax:- fillna(method='bfill') this is a backward filling method it means it fills the values from BOTTOM TO TOP\n",
    "         2. fillna({'key':'value'}) this method is in the form dictionary used to fill missing or null values               \n",
    "                                    here key is the column and value is the your desired value \n",
    "         3. fillna_value:- this is also a method but in the latest version of PANDAS it has been removed"
   ]
  },
  {
   "cell_type": "markdown",
   "metadata": {},
   "source": [
    "# TO COUNT HOW MANY NULL VALUES ARE PRESENT IN A DATA\n",
    "    (1) store your data in a variable consider your data is stored in 'a' variable\n",
    "    (2) a.isna().sum()  this function will tells you how many missing or null values are present in your data "
   ]
  },
  {
   "cell_type": "markdown",
   "metadata": {},
   "source": [
    "# TO COUNT HOW MANY NULL VALUES ARE PRESENT IN PARTICULAR COLUMN OF YOUR DATA\n",
    "       (1) systax for finding null values in a particular column is \n",
    "       (2) a.isna([\"your column name or number\"]).isna().sum()"
   ]
  },
  {
   "cell_type": "markdown",
   "metadata": {},
   "source": [
    "# IF THERE ARE UNWANTED ROWS AND COLUMNS YOU WANT TO REMOVE IT\n",
    "    FOLLOWING IS THE METHOD TO REMOVE"
   ]
  },
  {
   "cell_type": "markdown",
   "metadata": {},
   "source": [
    "# There are two methods to remove the unwanted data from your dataset\n",
    "    1. del :- we can use delete keyword to delete the data but it only delete columns \n",
    "    \n",
    "       syntax for del is :- del variable name['specify column name']\n",
    "       \n",
    "    2. drop():- drop is function which is used to remove your unwanted data present in rows and columns\n",
    "    \n",
    "       syntax for drop is :- (1) variable name.drop(['specify column or row name'],axis=0 or 1)\n",
    "       \n",
    "             Here axis represent whether it will be row or column (axis = 0 means it is a row and axis= 1 means it is a column)\n",
    "             \n",
    "       syntax if you want to remove your data permanently is :-\n",
    "              \n",
    "          (2)variable name .drop([\"specify column or row name\"],axis=your desired axis, inplace =True)\n",
    "          \n",
    "              Here inplace=True is used to drop that row or column permanently \n",
    "              if you give inplace=True then only it removes the data permanently otherwise no\n",
    "             \n",
    "       syntax if you want to remove your in multiple rows or columns is:-\n",
    "              \n",
    "              (3) variable name.drop([row or column , row or column],axis = 0 or 1 ,inplace =True\n",
    "               "
   ]
  },
  {
   "cell_type": "markdown",
   "metadata": {},
   "source": [
    "# DIFFERENCE BETWEEN DELETE AND DROP IS \n",
    "                                    DELETE                                                        DROP()\n",
    "                                    \n",
    "                         Delete only operates on column                       Drop can operates on both rows and columns\n",
    "                         Delete only operate on a single item at a time       Drop can operates multiple items at a time\n",
    "                         Delete is a keyword                                  Drop is a function\n",
    "                         syntax:- del variablename['desired col name']        syntax:- variablename.drop(['desired row or column'],axis=0 or 1)"
   ]
  },
  {
   "cell_type": "markdown",
   "metadata": {},
   "source": [
    "# HOW TO REPLACE VALUES IN YOUR DATA IF DATA CONSISTS OF NULL OR NaN OR SPACE OR ? \n",
    "    (1) Based on problem choose which method is best\n",
    "    (2)First find the null values in your data using variable.isna().sum()\n",
    "    (3)select in which column your data have null values\n",
    "    (4) By using fillna method also we can perform\n",
    "# There are some methods to replace the null values \n",
    "    (1) np.mean()\n",
    "    (2) np.median()           here np.mean,np.median all performs when it is int\n",
    "    (3) np.frequency()\n",
    "    (4) np.quantile()\n",
    "    (5) fillna(desired value)\n",
    "# syntax for replace null or Nan or space or ? values\n",
    "    variablename[\"desired col name\"].replace(np.nan,desired value,inplace=True)\n",
    "    variablename.fillna(desired value)"
   ]
  },
  {
   "cell_type": "code",
   "execution_count": null,
   "metadata": {},
   "outputs": [],
   "source": []
  }
 ],
 "metadata": {
  "kernelspec": {
   "display_name": "Python 3",
   "language": "python",
   "name": "python3"
  },
  "language_info": {
   "codemirror_mode": {
    "name": "ipython",
    "version": 3
   },
   "file_extension": ".py",
   "mimetype": "text/x-python",
   "name": "python",
   "nbconvert_exporter": "python",
   "pygments_lexer": "ipython3",
   "version": "3.7.5"
  }
 },
 "nbformat": 4,
 "nbformat_minor": 4
}
